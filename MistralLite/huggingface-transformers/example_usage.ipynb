{
 "cells": [
  {
   "cell_type": "markdown",
   "id": "da36e624-f632-46ec-9e79-f4176e73a386",
   "metadata": {},
   "source": [
    "# Using huggingface Transformer"
   ]
  },
  {
   "cell_type": "code",
   "execution_count": null,
   "id": "989afeee-34a3-4122-be24-be2f91983145",
   "metadata": {},
   "outputs": [],
   "source": [
    "!pip install transformers==4.34.0"
   ]
  },
  {
   "cell_type": "code",
   "execution_count": null,
   "id": "578e336b-8be9-4578-98cc-c83a89ff5bb7",
   "metadata": {},
   "outputs": [],
   "source": [
    "from transformers import AutoModelForCausalLM, AutoTokenizer\n",
    "import transformers\n",
    "import torch\n",
    "\n",
    "model_id = \"amazon/MistralLite\""
   ]
  },
  {
   "cell_type": "markdown",
   "id": "8c934fec-48d2-4f18-867e-ce9283984f6f",
   "metadata": {},
   "source": [
    "## use flash attention2"
   ]
  },
  {
   "cell_type": "code",
   "execution_count": null,
   "id": "56e28b8a-2ac6-4cad-b003-d1658a715ada",
   "metadata": {
    "scrolled": true
   },
   "outputs": [],
   "source": [
    "!pip install flash-attn==2.3.1.post1 --no-build-isolation"
   ]
  },
  {
   "cell_type": "code",
   "execution_count": null,
   "id": "679d2c9b-ee5c-4542-988a-3c0dfad894f8",
   "metadata": {},
   "outputs": [],
   "source": [
    "!pip install accelerate==0.23.0"
   ]
  },
  {
   "cell_type": "code",
   "execution_count": null,
   "id": "dc9c8042-090b-40ff-906e-46ec26c6206a",
   "metadata": {},
   "outputs": [],
   "source": [
    "tokenizer = AutoTokenizer.from_pretrained(model_id)\n",
    "model = AutoModelForCausalLM.from_pretrained(model_id,\n",
    "                                             torch_dtype=torch.bfloat16,\n",
    "                                             use_flash_attention_2=True,\n",
    "                                             device_map=\"auto\",)\n",
    "pipeline = transformers.pipeline(\n",
    "    \"text-generation\",\n",
    "    model=model,\n",
    "    tokenizer=tokenizer,\n",
    ")"
   ]
  },
  {
   "cell_type": "code",
   "execution_count": null,
   "id": "b0433b09-052b-47cb-a552-075522e4c846",
   "metadata": {},
   "outputs": [],
   "source": [
    "prompt = \"<|prompter|>What are the main challenges to support a long context for LLM?</s><|assistant|>\"\n",
    "\n",
    "sequences = pipeline(\n",
    "    prompt,\n",
    "    max_new_tokens=400,\n",
    "    do_sample=False,\n",
    "    return_full_text=False,\n",
    "    num_return_sequences=1,\n",
    "    eos_token_id=tokenizer.eos_token_id,\n",
    ")\n",
    "for seq in sequences:\n",
    "    print(f\"{seq['generated_text']}\")"
   ]
  },
  {
   "cell_type": "code",
   "execution_count": null,
   "id": "f1437661-8d06-43a1-9547-ffdea1529d3e",
   "metadata": {},
   "outputs": [],
   "source": [
    "with open(\"../example_long_ctx.txt\", \"r\") as fin:\n",
    "    task_instruction = fin.read()\n",
    "    task_instruction = task_instruction.format(\n",
    "        my_question=\"please tell me how does pgvector help with Generative AI and give me some examples.\"\n",
    "    )\n",
    "prompt = f\"<|prompter|>{task_instruction}</s><|assistant|>\"\n",
    "sequences = pipeline(\n",
    "    prompt,\n",
    "    max_new_tokens=400,\n",
    "    do_sample=False,\n",
    "    return_full_text=False,\n",
    "    num_return_sequences=1,\n",
    "    #eos_token_id=tokenizer.eos_token_id,\n",
    ")\n",
    "for seq in sequences:\n",
    "    print(f\"{seq['generated_text']}\")"
   ]
  }
 ],
 "metadata": {
  "kernelspec": {
   "display_name": "conda_pytorch_p310",
   "language": "python",
   "name": "conda_pytorch_p310"
  },
  "language_info": {
   "codemirror_mode": {
    "name": "ipython",
    "version": 3
   },
   "file_extension": ".py",
   "mimetype": "text/x-python",
   "name": "python",
   "nbconvert_exporter": "python",
   "pygments_lexer": "ipython3",
   "version": "3.10.12"
  }
 },
 "nbformat": 4,
 "nbformat_minor": 5
}
